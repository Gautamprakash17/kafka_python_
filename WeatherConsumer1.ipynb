{
 "cells": [
  {
   "cell_type": "code",
   "execution_count": 2,
   "metadata": {},
   "outputs": [],
   "source": [
    "import csv\n",
    "from kafka import KafkaConsumer\n",
    "\n",
    "# Kafka Configuration\n",
    "bootstrap_servers = '10.1.1.109:9092'\n",
    "topic = 'weather_topic'\n",
    "output_file = 'consumer_output.csv'  # Specify the output file name\n",
    "\n",
    "# Create Kafka consumer\n",
    "consumer = KafkaConsumer(topic, bootstrap_servers=bootstrap_servers)\n",
    "\n",
    "# Consume messages from the Kafka topic and write to the CSV file\n",
    "with open(output_file, 'w', newline='') as f:\n",
    "    writer = csv.writer(f)\n",
    "    for message in consumer:\n",
    "        row = [message.value.decode('utf-8')]\n",
    "        writer.writerow(row)\n",
    "\n",
    "# Close Kafka consumer\n",
    "consumer.close()\n",
    "\n",
    "print('Consumer output saved to:', output_file)\n"
   ]
  }
 ],
 "metadata": {
  "kernelspec": {
   "display_name": "Python 3",
   "language": "python",
   "name": "python3"
  },
  "language_info": {
   "codemirror_mode": {
    "name": "ipython",
    "version": 3
   },
   "file_extension": ".py",
   "mimetype": "text/x-python",
   "name": "python",
   "nbconvert_exporter": "python",
   "pygments_lexer": "ipython3",
   "version": "3.11.3"
  },
  "orig_nbformat": 4
 },
 "nbformat": 4,
 "nbformat_minor": 2
}

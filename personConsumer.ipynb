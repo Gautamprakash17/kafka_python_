{
 "cells": [
  {
   "cell_type": "code",
   "execution_count": 6,
   "metadata": {},
   "outputs": [],
   "source": [
    "import json\n",
    "import time\n",
    "import pandas as pd\n",
    "from kafka import KafkaConsumer\n",
    "\n",
    "# Consumer function to process data from Kafka topic\n",
    "def consumer_function(bootstrap_servers, topic, duration_minutes):\n",
    "    consumer = KafkaConsumer(bootstrap_servers=bootstrap_servers,\n",
    "                             value_deserializer=lambda v: json.loads(v.decode('utf-8')))\n",
    "    consumer.subscribe([topic])\n",
    "\n",
    "    # Create an empty DataFrame to store the data\n",
    "    data_df = pd.DataFrame(columns=['gender', 'name', 'location', 'email'])\n",
    "\n",
    "    # Calculate the end time based on the duration\n",
    "    end_time = time.time() + (duration_minutes * 60)\n",
    "\n",
    "    while time.time() < end_time:\n",
    "        for message in consumer:\n",
    "            data = message.value\n",
    "            # Process the data as needed\n",
    "            gender = data['gender']\n",
    "            name = f\"{data['name']['title']} {data['name']['first']} {data['name']['last']}\"\n",
    "            location = data['location']['city']\n",
    "            email = data['email']\n",
    "\n",
    "            # Append the data to the DataFrame\n",
    "            data_df = data_df.append({'gender': gender, 'name': name, 'location': location, 'email': email},\n",
    "                                     ignore_index=True)\n",
    "\n",
    "            # Print or perform any other desired operations with the extracted data\n",
    "\n",
    "    # Save the DataFrame to a CSV file\n",
    "    data_df.to_csv('consumer_data.csv', index=False)\n",
    "\n",
    "# Kafka Configuration\n",
    "bootstrap_servers = '10.1.1.109:9092'\n",
    "topic = 'api_data_topic'\n",
    "\n",
    "# Define the duration in minutes (e.g., 5 minutes)\n",
    "duration_minutes = 5\n",
    "\n",
    "# Call the consumer function\n",
    "consumer_function(bootstrap_servers, topic, duration_minutes)\n"
   ]
  }
 ],
 "metadata": {
  "kernelspec": {
   "display_name": "Python 3",
   "language": "python",
   "name": "python3"
  },
  "language_info": {
   "codemirror_mode": {
    "name": "ipython",
    "version": 3
   },
   "file_extension": ".py",
   "mimetype": "text/x-python",
   "name": "python",
   "nbconvert_exporter": "python",
   "pygments_lexer": "ipython3",
   "version": "3.11.3"
  },
  "orig_nbformat": 4
 },
 "nbformat": 4,
 "nbformat_minor": 2
}

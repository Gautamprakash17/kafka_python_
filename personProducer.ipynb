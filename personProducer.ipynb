{
 "cells": [
  {
   "cell_type": "code",
   "execution_count": 4,
   "metadata": {},
   "outputs": [],
   "source": [
    "import json\n",
    "import requests\n",
    "from kafka import KafkaProducer\n",
    "\n",
    "# Producer function to fetch data from the API URL and send it to Kafka topic\n",
    "def producer_function(api_url, bootstrap_servers, topic):\n",
    "    response = requests.get(api_url)\n",
    "    if response.status_code == 200:\n",
    "        data = json.loads(response.text)\n",
    "        producer = KafkaProducer(bootstrap_servers=bootstrap_servers,\n",
    "                                 value_serializer=lambda v: json.dumps(v).encode('utf-8'))\n",
    "        results = data['results']\n",
    "        for result in results:\n",
    "            producer.send(topic, value=result)\n",
    "        producer.close()\n",
    "\n",
    "# API URL\n",
    "api_url = 'https://randomuser.me/api/'\n",
    "\n",
    "# Kafka Configuration\n",
    "bootstrap_servers = '10.1.1.109:9092'\n",
    "topic = 'api_data_topic'\n",
    "\n",
    "# Call the producer function\n",
    "producer_function(api_url, bootstrap_servers, topic)\n"
   ]
  }
 ],
 "metadata": {
  "kernelspec": {
   "display_name": "Python 3",
   "language": "python",
   "name": "python3"
  },
  "language_info": {
   "codemirror_mode": {
    "name": "ipython",
    "version": 3
   },
   "file_extension": ".py",
   "mimetype": "text/x-python",
   "name": "python",
   "nbconvert_exporter": "python",
   "pygments_lexer": "ipython3",
   "version": "3.11.3"
  },
  "orig_nbformat": 4
 },
 "nbformat": 4,
 "nbformat_minor": 2
}

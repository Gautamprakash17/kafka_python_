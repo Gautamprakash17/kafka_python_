{
 "cells": [
  {
   "cell_type": "code",
   "execution_count": 1,
   "metadata": {},
   "outputs": [
    {
     "name": "stdout",
     "output_type": "stream",
     "text": [
      "API response sent to Kafka topic: weather_topic\n"
     ]
    }
   ],
   "source": [
    "import requests\n",
    "from kafka import KafkaProducer\n",
    "\n",
    "# API Configuration\n",
    "access_key = 'e1b04dd9-c546-409f-912c-c53ceacc0ed1'\n",
    "api_url = 'https://api.meteum.ai/v1/forecast?lat=52.37125&lon=4.89388'\n",
    "\n",
    "# Kafka Configuration\n",
    "bootstrap_servers = '10.1.1.109:9092'\n",
    "topic = 'weather_topic'\n",
    "\n",
    "# Create Kafka producer\n",
    "producer = KafkaProducer(bootstrap_servers=bootstrap_servers)\n",
    "\n",
    "# Make API call and send response to Kafka topic\n",
    "try:\n",
    "    headers = {'X-Meteum-API-Key': access_key}\n",
    "    response = requests.get(api_url, headers=headers)\n",
    "    if response.status_code == 200:\n",
    "        producer.send(topic, response.content)\n",
    "        print('API response sent to Kafka topic:', topic)\n",
    "    else:\n",
    "        print('API call failed with status code:', response.status_code)\n",
    "except requests.exceptions.RequestException as e:\n",
    "    print('API call failed:', str(e))\n",
    "\n",
    "\n"
   ]
  },
  {
   "cell_type": "code",
   "execution_count": 2,
   "metadata": {},
   "outputs": [],
   "source": [
    "# Close Kafka producer\n",
    "producer.close()"
   ]
  }
 ],
 "metadata": {
  "kernelspec": {
   "display_name": "Python 3",
   "language": "python",
   "name": "python3"
  },
  "language_info": {
   "codemirror_mode": {
    "name": "ipython",
    "version": 3
   },
   "file_extension": ".py",
   "mimetype": "text/x-python",
   "name": "python",
   "nbconvert_exporter": "python",
   "pygments_lexer": "ipython3",
   "version": "3.11.3"
  },
  "orig_nbformat": 4
 },
 "nbformat": 4,
 "nbformat_minor": 2
}

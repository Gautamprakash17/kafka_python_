{
 "cells": [
  {
   "cell_type": "code",
   "execution_count": 2,
   "metadata": {},
   "outputs": [
    {
     "name": "stdout",
     "output_type": "stream",
     "text": [
      "weather_topic\n",
      "demo_test\n",
      "__consumer_offsets\n",
      "api_data_topic\n",
      "my-topic\n",
      "temperature-readings\n"
     ]
    }
   ],
   "source": [
    "from kafka import KafkaAdminClient\n",
    "\n",
    "# Kafka Configuration\n",
    "bootstrap_servers = '10.1.1.109:9092'\n",
    "\n",
    "# Create KafkaAdminClient\n",
    "admin_client = KafkaAdminClient(bootstrap_servers=bootstrap_servers)\n",
    "\n",
    "# Fetch the list of topics\n",
    "topic_list = admin_client.list_topics()\n",
    "\n",
    "# Print the list of topics\n",
    "for topic in topic_list:\n",
    "    print(topic)\n",
    "\n",
    "# Close the KafkaAdminClient\n",
    "admin_client.close()\n"
   ]
  }
 ],
 "metadata": {
  "kernelspec": {
   "display_name": "Python 3",
   "language": "python",
   "name": "python3"
  },
  "language_info": {
   "codemirror_mode": {
    "name": "ipython",
    "version": 3
   },
   "file_extension": ".py",
   "mimetype": "text/x-python",
   "name": "python",
   "nbconvert_exporter": "python",
   "pygments_lexer": "ipython3",
   "version": "3.11.3"
  },
  "orig_nbformat": 4
 },
 "nbformat": 4,
 "nbformat_minor": 2
}
